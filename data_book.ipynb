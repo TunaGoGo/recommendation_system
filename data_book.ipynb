{
 "cells": [
  {
   "cell_type": "code",
   "execution_count": 1,
   "id": "78d75b99",
   "metadata": {},
   "outputs": [],
   "source": [
    "import pandas as pd\n",
    "import numpy as np"
   ]
  },
  {
   "cell_type": "code",
   "execution_count": null,
   "id": "3b9c2748",
   "metadata": {},
   "outputs": [],
   "source": [
    "movies = pd.read_csv(r'D:\\repos\\recommendition\\ml-32m\\movies.csv')\n",
    "tags = pd.read_csv(r'D:\\repos\\recommendition\\ml-32m\\tags.csv')\n",
    "ratings = pd.read_csv(r'D:\\repos\\recommendition\\ml-32m\\ratings.csv')"
   ]
  },
  {
   "cell_type": "markdown",
   "id": "1db811bd",
   "metadata": {},
   "source": [
    "# content based filtering"
   ]
  },
  {
   "cell_type": "code",
   "execution_count": null,
   "id": "e8fafcdd",
   "metadata": {},
   "outputs": [],
   "source": [
    "movies['genres'] = movies['genres'].str.split('|')"
   ]
  },
  {
   "cell_type": "code",
   "execution_count": null,
   "id": "a223588b",
   "metadata": {},
   "outputs": [],
   "source": [
    "tags = tags[tags['tag'].notna()]\n",
    "tags['tag'] = tags['tag'].str.lower()\n",
    "tags = tags[~tags['tag'].str.fullmatch(r'\\d+')]"
   ]
  },
  {
   "cell_type": "code",
   "execution_count": null,
   "id": "19fa53a4",
   "metadata": {},
   "outputs": [],
   "source": [
    "movie_tags = tags.loc[:,['movieId','tag']].groupby('movieId')['tag'].apply(lambda x: ', '.join(x)).reset_index()"
   ]
  },
  {
   "cell_type": "code",
   "execution_count": null,
   "id": "00535a2f",
   "metadata": {},
   "outputs": [],
   "source": [
    "movies = pd.merge(movies, movie_tags, on='movieId', how='left')\n",
    "movies['tag'] = movies['tag'].fillna('')"
   ]
  },
  {
   "cell_type": "code",
   "execution_count": null,
   "id": "4f2c8d9a",
   "metadata": {},
   "outputs": [],
   "source": [
    "movies.dropna()"
   ]
  },
  {
   "cell_type": "code",
   "execution_count": null,
   "id": "458d0368",
   "metadata": {},
   "outputs": [],
   "source": [
    "movies['genres_str'] = movies['genres'].apply(lambda x: ' '.join(x) if isinstance(x, list) else '')\n",
    "movies['combined'] = movies['genres_str'] + ' ' + movies['tag']"
   ]
  },
  {
   "cell_type": "code",
   "execution_count": null,
   "id": "b14cda73",
   "metadata": {},
   "outputs": [],
   "source": [
    "from sklearn.feature_extraction.text import TfidfVectorizer\n",
    "\n",
    "tfidf = TfidfVectorizer(stop_words='english')\n",
    "tfidf_matrix = tfidf.fit_transform(movies['combined'])"
   ]
  },
  {
   "cell_type": "code",
   "execution_count": null,
   "id": "7ec94976",
   "metadata": {},
   "outputs": [],
   "source": [
    "from sklearn.metrics.pairwise import cosine_similarity"
   ]
  },
  {
   "cell_type": "code",
   "execution_count": null,
   "id": "c37a0705",
   "metadata": {},
   "outputs": [],
   "source": [
    "movies = movies.reset_index()\n",
    "title_to_index = pd.Series(movies.index, index=movies['title'])"
   ]
  },
  {
   "cell_type": "code",
   "execution_count": null,
   "id": "7b802e58",
   "metadata": {},
   "outputs": [],
   "source": [
    "def recommend_movies_sparse(title, top_n=5):\n",
    "    if title not in title_to_index:\n",
    "        return f\"电影《{title}》不在数据集中。\"\n",
    "    \n",
    "    idx = title_to_index[title]\n",
    "    # 只计算一部电影与所有其他电影的相似度\n",
    "    cosine_scores = cosine_similarity(tfidf_matrix[idx], tfidf_matrix).flatten()\n",
    "    \n",
    "    # 获取得分最高的前 N 个相似电影（排除自己）\n",
    "    similar_indices = cosine_scores.argsort()[-top_n-1:-1][::-1]\n",
    "    similar_movies = movies.iloc[similar_indices][['title', 'genres']]\n",
    "    similar_movies['score'] = cosine_scores[similar_indices]\n",
    "    \n",
    "    return similar_movies"
   ]
  },
  {
   "cell_type": "code",
   "execution_count": null,
   "id": "0fd156a5",
   "metadata": {},
   "outputs": [],
   "source": [
    "recommend_movies_sparse('Toy Story (1995)', 5)"
   ]
  },
  {
   "cell_type": "markdown",
   "id": "0e383c85",
   "metadata": {},
   "source": [
    "# Collaborative Filtering"
   ]
  },
  {
   "cell_type": "markdown",
   "id": "be5e1626",
   "metadata": {},
   "source": [
    "## item-based filtering"
   ]
  },
  {
   "cell_type": "code",
   "execution_count": 28,
   "id": "ee6c3cb9",
   "metadata": {},
   "outputs": [],
   "source": [
    "movies = pd.read_csv(r'D:\\repos\\recommendition\\ml-32m\\movies.csv')\n",
    "ratings = pd.read_csv(r'D:\\repos\\recommendition\\ml-32m\\ratings.csv')"
   ]
  },
  {
   "cell_type": "code",
   "execution_count": 30,
   "id": "44181579",
   "metadata": {},
   "outputs": [],
   "source": [
    "# ratings['movieId'] = pd.to_numeric(ratings['movieId'], errors='coerce')\n",
    "# ratings['userId'] = pd.to_numeric(ratings['userId'], errors='coerce')\n",
    "# ratings['rating'] = pd.to_numeric(ratings['rating'], errors='coerce')\n",
    "\n",
    "ratings = ratings.dropna(subset=['movieId', 'userId', 'rating'])\n",
    "ratings['movieId'] = ratings['movieId'].astype(int)\n",
    "ratings['userId'] = ratings['userId'].astype(int)\n",
    "ratings['rating'] = ratings['rating'].astype(float)"
   ]
  },
  {
   "cell_type": "code",
   "execution_count": 32,
   "id": "4e52bf9d",
   "metadata": {},
   "outputs": [
    {
     "name": "stdout",
     "output_type": "stream",
     "text": [
      "userId min: 1 max: 200948\n",
      "movieId min: 1 max: 292757\n",
      "rating min: 0.5 max: 5.0\n"
     ]
    }
   ],
   "source": [
    "print(\"userId min:\", ratings['userId'].min(), \"max:\", ratings['userId'].max())\n",
    "print(\"movieId min:\", ratings['movieId'].min(), \"max:\", ratings['movieId'].max())\n",
    "print(\"rating min:\", ratings['rating'].min(), \"max:\", ratings['rating'].max())\n"
   ]
  },
  {
   "cell_type": "code",
   "execution_count": 42,
   "id": "90d4f372",
   "metadata": {},
   "outputs": [
    {
     "name": "stdout",
     "output_type": "stream",
     "text": [
      "用户数: 200948 电影数: 84432\n",
      "稀疏评分矩阵 shape: (200948, 84432)\n"
     ]
    }
   ],
   "source": [
    "from scipy.sparse import csr_matrix\n",
    "\n",
    "# 重新编码 userId 和 movieId 为索引\n",
    "user_map = {id: idx for idx, id in enumerate(ratings['userId'].unique())}\n",
    "movie_map = {id: idx for idx, id in enumerate(ratings['movieId'].unique())}\n",
    "\n",
    "ratings['user_index'] = ratings['userId'].map(user_map)\n",
    "ratings['movie_index'] = ratings['movieId'].map(movie_map)\n",
    "\n",
    "n_users = len(user_map)\n",
    "n_movies = len(movie_map)\n",
    "\n",
    "print(\"用户数:\", n_users, \"电影数:\", n_movies)\n",
    "\n",
    "# 确保没有负维度\n",
    "assert n_users > 0 and n_movies > 0, \"用户数或电影数为负或零！\"\n",
    "\n",
    "# 构建稀疏评分矩阵\n",
    "rating_matrix = csr_matrix(\n",
    "    (ratings['rating'], (ratings['user_index'], ratings['movie_index'])),\n",
    "    shape=(n_users, n_movies)\n",
    ")\n",
    "\n",
    "print(\"稀疏评分矩阵 shape:\", rating_matrix.shape)"
   ]
  },
  {
   "cell_type": "code",
   "execution_count": 44,
   "id": "b7b0bf5b",
   "metadata": {},
   "outputs": [],
   "source": [
    "movie_user_matrix = rating_matrix.T"
   ]
  },
  {
   "cell_type": "code",
   "execution_count": 46,
   "id": "f5425ba0",
   "metadata": {},
   "outputs": [],
   "source": [
    "from sklearn.metrics.pairwise import cosine_similarity\n",
    "movie_sim = cosine_similarity(movie_user_matrix, dense_output=False) "
   ]
  },
  {
   "cell_type": "code",
   "execution_count": 50,
   "id": "197e9a36",
   "metadata": {},
   "outputs": [],
   "source": [
    "def recommend_similar_movies(movie_id, top_n=5):\n",
    "    # movie_map 是原始 movieId 到索引的映射\n",
    "    if movie_id not in movie_map:\n",
    "        return f\"电影ID {movie_id} 不在数据集中\"\n",
    "\n",
    "    movie_idx = movie_map[movie_id]\n",
    "    sim_scores = movie_sim[movie_idx].toarray().flatten()\n",
    "\n",
    "    # 去掉自身\n",
    "    sim_scores[movie_idx] = -1\n",
    "\n",
    "    top_indices = np.argsort(sim_scores)[-top_n:][::-1]\n",
    "\n",
    "    # 将索引反查回 movieId\n",
    "    reverse_movie_map = {v: k for k, v in movie_map.items()}\n",
    "    top_movie_ids = [reverse_movie_map[i] for i in top_indices]\n",
    "\n",
    "    # 加载电影信息并返回\n",
    "    movies = pd.read_csv(r'D:\\repos\\recommendition\\ml-32m\\movies.csv')\n",
    "    return movies[movies['movieId'].isin(top_movie_ids)][['movieId', 'title', 'genres']]\n"
   ]
  },
  {
   "cell_type": "code",
   "execution_count": null,
   "id": "19667e1a",
   "metadata": {},
   "outputs": [
    {
     "data": {
      "text/html": [
       "<div>\n",
       "<style scoped>\n",
       "    .dataframe tbody tr th:only-of-type {\n",
       "        vertical-align: middle;\n",
       "    }\n",
       "\n",
       "    .dataframe tbody tr th {\n",
       "        vertical-align: top;\n",
       "    }\n",
       "\n",
       "    .dataframe thead th {\n",
       "        text-align: right;\n",
       "    }\n",
       "</style>\n",
       "<table border=\"1\" class=\"dataframe\">\n",
       "  <thead>\n",
       "    <tr style=\"text-align: right;\">\n",
       "      <th></th>\n",
       "      <th>movieId</th>\n",
       "      <th>title</th>\n",
       "      <th>genres</th>\n",
       "    </tr>\n",
       "  </thead>\n",
       "  <tbody>\n",
       "    <tr>\n",
       "      <th>257</th>\n",
       "      <td>260</td>\n",
       "      <td>Star Wars: Episode IV - A New Hope (1977)</td>\n",
       "      <td>Action|Adventure|Sci-Fi</td>\n",
       "    </tr>\n",
       "    <tr>\n",
       "      <th>351</th>\n",
       "      <td>356</td>\n",
       "      <td>Forrest Gump (1994)</td>\n",
       "      <td>Comedy|Drama|Romance|War</td>\n",
       "    </tr>\n",
       "    <tr>\n",
       "      <th>475</th>\n",
       "      <td>480</td>\n",
       "      <td>Jurassic Park (1993)</td>\n",
       "      <td>Action|Adventure|Sci-Fi|Thriller</td>\n",
       "    </tr>\n",
       "    <tr>\n",
       "      <th>1237</th>\n",
       "      <td>1270</td>\n",
       "      <td>Back to the Future (1985)</td>\n",
       "      <td>Adventure|Comedy|Sci-Fi</td>\n",
       "    </tr>\n",
       "    <tr>\n",
       "      <th>3021</th>\n",
       "      <td>3114</td>\n",
       "      <td>Toy Story 2 (1999)</td>\n",
       "      <td>Adventure|Animation|Children|Comedy|Fantasy</td>\n",
       "    </tr>\n",
       "  </tbody>\n",
       "</table>\n",
       "</div>"
      ],
      "text/plain": [
       "      movieId                                      title  \\\n",
       "257       260  Star Wars: Episode IV - A New Hope (1977)   \n",
       "351       356                        Forrest Gump (1994)   \n",
       "475       480                       Jurassic Park (1993)   \n",
       "1237     1270                  Back to the Future (1985)   \n",
       "3021     3114                         Toy Story 2 (1999)   \n",
       "\n",
       "                                           genres  \n",
       "257                       Action|Adventure|Sci-Fi  \n",
       "351                      Comedy|Drama|Romance|War  \n",
       "475              Action|Adventure|Sci-Fi|Thriller  \n",
       "1237                      Adventure|Comedy|Sci-Fi  \n",
       "3021  Adventure|Animation|Children|Comedy|Fantasy  "
      ]
     },
     "execution_count": 51,
     "metadata": {},
     "output_type": "execute_result"
    },
    {
     "ename": "",
     "evalue": "",
     "output_type": "error",
     "traceback": [
      "\u001b[1;31mThe Kernel crashed while executing code in the current cell or a previous cell. \n",
      "\u001b[1;31mPlease review the code in the cell(s) to identify a possible cause of the failure. \n",
      "\u001b[1;31mClick <a href='https://aka.ms/vscodeJupyterKernelCrash'>here</a> for more info. \n",
      "\u001b[1;31mView Jupyter <a href='command:jupyter.viewOutput'>log</a> for further details."
     ]
    }
   ],
   "source": [
    "recommend_similar_movies(1, top_n=5)  # 电影ID 1 是《Toy Story (1995)》"
   ]
  }
 ],
 "metadata": {
  "kernelspec": {
   "display_name": "base",
   "language": "python",
   "name": "python3"
  },
  "language_info": {
   "codemirror_mode": {
    "name": "ipython",
    "version": 3
   },
   "file_extension": ".py",
   "mimetype": "text/x-python",
   "name": "python",
   "nbconvert_exporter": "python",
   "pygments_lexer": "ipython3",
   "version": "3.12.4"
  }
 },
 "nbformat": 4,
 "nbformat_minor": 5
}
